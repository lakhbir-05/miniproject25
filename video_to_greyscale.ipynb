{
  "nbformat": 4,
  "nbformat_minor": 0,
  "metadata": {
    "colab": {
      "provenance": [],
      "authorship_tag": "ABX9TyMttFRsMiRHVU48ZO6GtSLR",
      "include_colab_link": true
    },
    "kernelspec": {
      "name": "python3",
      "display_name": "Python 3"
    },
    "language_info": {
      "name": "python"
    }
  },
  "cells": [
    {
      "cell_type": "markdown",
      "metadata": {
        "id": "view-in-github",
        "colab_type": "text"
      },
      "source": [
        "<a href=\"https://colab.research.google.com/github/lakhbir-05/miniproject25/blob/main/video_to_greyscale.ipynb\" target=\"_parent\"><img src=\"https://colab.research.google.com/assets/colab-badge.svg\" alt=\"Open In Colab\"/></a>"
      ]
    },
    {
      "cell_type": "code",
      "source": [
        "!pip install yt-dlp opencv-python"
      ],
      "metadata": {
        "colab": {
          "base_uri": "https://localhost:8080/"
        },
        "id": "eJlIAA8z9jNY",
        "outputId": "e36e2ec2-e137-4f1d-c036-74f0a9730f20"
      },
      "execution_count": null,
      "outputs": [
        {
          "output_type": "stream",
          "name": "stdout",
          "text": [
            "Collecting yt-dlp\n",
            "  Downloading yt_dlp-2025.6.9-py3-none-any.whl.metadata (174 kB)\n",
            "\u001b[2K     \u001b[90m━━━━━━━━━━━━━━━━━━━━━━━━━━━━━━━━━━━━━━━\u001b[0m \u001b[32m174.3/174.3 kB\u001b[0m \u001b[31m3.2 MB/s\u001b[0m eta \u001b[36m0:00:00\u001b[0m\n",
            "\u001b[?25hRequirement already satisfied: opencv-python in /usr/local/lib/python3.11/dist-packages (4.11.0.86)\n",
            "Requirement already satisfied: numpy>=1.21.2 in /usr/local/lib/python3.11/dist-packages (from opencv-python) (2.0.2)\n",
            "Downloading yt_dlp-2025.6.9-py3-none-any.whl (3.3 MB)\n",
            "\u001b[2K   \u001b[90m━━━━━━━━━━━━━━━━━━━━━━━━━━━━━━━━━━━━━━━━\u001b[0m \u001b[32m3.3/3.3 MB\u001b[0m \u001b[31m43.1 MB/s\u001b[0m eta \u001b[36m0:00:00\u001b[0m\n",
            "\u001b[?25hInstalling collected packages: yt-dlp\n",
            "Successfully installed yt-dlp-2025.6.9\n"
          ]
        }
      ]
    },
    {
      "cell_type": "code",
      "source": [
        "import os\n",
        "import yt_dlp\n",
        "import cv2\n",
        "\n",
        "#  Step 1: Use your YouTube Shorts URL\n",
        "youtube_url = \"https://youtube.com/shorts/U4FlkDceCPU?si=Q14n_Kf3i-ldxyvh\"\n",
        "\n",
        "#  Step 2: Create a folder to store videos\n",
        "video_folder = 'videos'\n",
        "os.makedirs(video_folder, exist_ok=True)\n",
        "\n",
        "#  Step 3: Define where to save the downloaded video\n",
        "downloaded_video_path = os.path.join(video_folder, 'downloaded_video.mp4')\n",
        "#combines folder+filename->videos/download video .mp4\n",
        "#this is the path where youtube video will be saved\n",
        "#  Step 4: Download the YouTube Shorts video using yt_dlp\n",
        "ydl_opts = {\n",
        "    'format': 'mp4',\n",
        "    'outtmpl': downloaded_video_path #sets the output filename\n",
        "}\n",
        "\n",
        "print(\"Downloading video...\")\n",
        "with yt_dlp.YoutubeDL(ydl_opts) as ydl:\n",
        "    ydl.download([youtube_url])\n",
        "print(\" Video downloaded successfully!\")\n",
        "\n",
        "#  Step 5: Open the video using OpenCV\n",
        "cap = cv2.VideoCapture(downloaded_video_path) #open downloaded video for reading\n",
        "\n",
        "# Get video properties\n",
        "#fps= frames per second\n",
        "fps = cap.get(cv2.CAP_PROP_FPS)\n",
        "width = int(cap.get(cv2.CAP_PROP_FRAME_WIDTH))\n",
        "height = int(cap.get(cv2.CAP_PROP_FRAME_HEIGHT))\n",
        "\n",
        "#  Step 6: Define output path for grayscale video\n",
        "#sets up opencv to save video frames\n",
        "gray_video_path = os.path.join(video_folder, 'grayscale_video.avi')\n",
        "out = cv2.VideoWriter(gray_video_path, cv2.VideoWriter_fourcc(*'XVID'), fps, (width, height), isColor=False)\n",
        "\n",
        "#  Step 7: Convert each frame to grayscale and save\n",
        "print(\" Converting video to grayscale...\")\n",
        "while True:\n",
        "    ret, frame = cap.read()\n",
        "    if not ret:\n",
        "        break\n",
        "\n",
        "    gray = cv2.cvtColor(frame, cv2.COLOR_BGR2GRAY)\n",
        "    out.write(gray)\n",
        "\n",
        "cap.release() #closes the video reader and writer so the files are saved properly\n",
        "out.release()\n",
        "print(f\"✅ Grayscale video saved at:{gray_video_path}\")"
      ],
      "metadata": {
        "colab": {
          "base_uri": "https://localhost:8080/"
        },
        "id": "6V5LXyeH_nav",
        "outputId": "f2fb4c65-9d7a-4fc4-e38b-7b3aef83a9c4"
      },
      "execution_count": null,
      "outputs": [
        {
          "output_type": "stream",
          "name": "stdout",
          "text": [
            "📥 Downloading video...\n",
            "[youtube] Extracting URL: https://youtube.com/shorts/U4FlkDceCPU?si=Q14n_Kf3i-ldxyvh\n",
            "[youtube] U4FlkDceCPU: Downloading webpage\n",
            "[youtube] U4FlkDceCPU: Downloading tv client config\n",
            "[youtube] U4FlkDceCPU: Downloading tv player API JSON\n",
            "[youtube] U4FlkDceCPU: Downloading ios player API JSON\n",
            "[youtube] U4FlkDceCPU: Downloading player 9fe2e06e-main\n",
            "[youtube] U4FlkDceCPU: Downloading m3u8 information\n",
            "[info] U4FlkDceCPU: Downloading 1 format(s): 18\n",
            "[download] Destination: videos/downloaded_video.mp4\n",
            "[download] 100% of    1.76MiB in 00:00:00 at 5.94MiB/s   \n",
            "✅ Video downloaded successfully!\n",
            "🎬 Converting video to grayscale...\n",
            "✅ Grayscale video saved at:videos/grayscale_video.avi\n"
          ]
        }
      ]
    },
    {
      "cell_type": "code",
      "source": [],
      "metadata": {
        "id": "G6AInFjA_2F2"
      },
      "execution_count": null,
      "outputs": []
    }
  ]
}